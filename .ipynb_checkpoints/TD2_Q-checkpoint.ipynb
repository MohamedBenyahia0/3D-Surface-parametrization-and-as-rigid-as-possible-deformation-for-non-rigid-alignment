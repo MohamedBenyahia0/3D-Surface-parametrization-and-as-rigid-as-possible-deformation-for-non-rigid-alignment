{
 "cells": [
  {
   "cell_type": "markdown",
   "metadata": {},
   "source": [
    "In this second practical session, we explore surface deformation algorithms with two applications : surface parametrization for texture mapping and as-rigid-as possible deformation for non-rigid alignment.\n",
    "\n",
    "Program for today:\n",
    "1. Surface Parameterisation\n",
    "\n",
    "    a. Tutte embedding,\n",
    "\n",
    "    b. Angle-preserving map with free boundary.\n",
    "    \n",
    "2. Surface alignment\n",
    "\n",
    "    a. Rigid alignment with Iterative Closest Point,\n",
    "\n",
    "    b. ARAP for non-rigid alignment.\n"
   ]
  },
  {
   "cell_type": "markdown",
   "metadata": {},
   "source": [
    "# Environment Setup\n",
    "\n",
    "You'll need to install meshplot, using either:\n",
    "- Conda:\n",
    "   - ```conda install -c conda-forge meshplot```\n",
    "- Pip:\n",
    "   - ```pip install pythreejs```\n",
    "   - ```pip install git+https://github.com/skoch9/meshplot.git```\n",
    "\n",
    "Works best with jupyter notebook."
   ]
  },
  {
   "cell_type": "code",
   "execution_count": null,
   "metadata": {},
   "outputs": [],
   "source": [
    "import os\n",
    "import shutil\n",
    "\n",
    "import numpy as np\n",
    "import matplotlib.pyplot as plt\n",
    "import scipy.sparse.linalg as sla\n",
    "import scipy.sparse\n",
    "from scipy.sparse import csc_matrix\n",
    "\n",
    "# THE FOLLOWING COME FROM THE PROVIDED DATA, DO NOT TRY TO PIP INSTALL THEM\n",
    "import plot_utils as plu\n",
    "import mesh_utils\n",
    "from mesh_utils.mesh import TriMesh"
   ]
  },
  {
   "cell_type": "markdown",
   "metadata": {},
   "source": [
    "# Surface Parameterisation\n",
    "\n",
    "Given a triangle mesh with triangle list $T$ ($n_f \\times 3$ array of integers) and vertex coordinates $X$ ($n_v \\times 3$ array of floats), a parametrization is simply an assignment of planar coordinates $U$ ($n_v \\times 2$ array of floats) for each vertex of the mesh. This parametrization will be vizualized by mapping a texture in planar coordinates to 3D coordinates."
   ]
  },
  {
   "cell_type": "markdown",
   "metadata": {},
   "source": [
    "## Tutte embedding\n",
    "\n",
    "The most simple way of computing planar coordinates is to fix the boundary of the mesh to predefined positions (in this example a unit circle) and place the inner vertices at the barycenter of their neighbours. For a boundary vertex $j$, the coordinates $(u_j,v_j)$ are constrained to the position $(\\bar{u}_j,\\bar{v}_j)$. More precisely, the planar coordinates $(u_i,v_i)$ of vertex $i$ satisfies the system of equations:\n",
    "\\begin{array}{lll}\n",
    "    \\sum_{j \\in N_i} w_{ij} (u_j - u_i) = 0, & \\sum_{j \\in N_i} w_{ij} (v_j - v_i) = 0, & \\text{ for all boundary vertices } i, \\\\\n",
    "    u_j = \\bar{u}_j, & u_j = \\bar{v}_j, & \\text{ for all interior vertices } j,\n",
    "\\end{array}\n",
    "where $w_{ij}$ are the cotan-weights computed in the previous practical session and $N_i$ is the set of vertices linked to $i$ by an edge.\n",
    "\n",
    "This system of linear equations can be easily rewritten in term of Laplacian matrix $W$ computed in the previous session:\n",
    "$$\n",
    "\\begin{array}{l}\n",
    "(W u)_i = 0, \\text{ and } (W v)_i = 0  \\text{ for all interior vertices $i$,} \\\\\n",
    "u_j = \\bar{u}_j, \\text{ and } v_j = \\bar{v}_j \\text{ for all boundary vertices $j$.}\n",
    "\\end{array}\n",
    "$$\n",
    "\n",
    "Let `id_int` and `id_bnd` be the lists of interior and boundary indices. The boundary coordinates `u[id_bnd]` and `v[id_bnd]` are coordinates evenly distributed on a circle.  With the boundary coordinates `u[id_bnd]` given, we want to solve the system of linear equations `W[id_int,:][:,id_int]*u[id_int] =-W[id_int,:][:,id_bnd]*u[id_bnd]` for the variables `u[id_int]`.\n",
    "\n",
    "This is done in three steps:\n",
    "1. Build the lists `id_int` and `id_bnd`\n",
    "2. Solve the constrained system of linear equations\n",
    "3. Vizualize the texture"
   ]
  },
  {
   "cell_type": "markdown",
   "metadata": {},
   "source": [
    "###  QUESTION 1 - Border Edges"
   ]
  },
  {
   "cell_type": "markdown",
   "metadata": {},
   "source": [
    "**Given a set of triangles, compute the list of (unordered) edges which lie at the border**"
   ]
  },
  {
   "cell_type": "code",
   "execution_count": null,
   "metadata": {},
   "outputs": [],
   "source": [
    "def get_border_edges(triangles):\n",
    "    \"\"\"\n",
    "    Get the border edges of a mesh. In no particular order\n",
    "\n",
    "    Parameters\n",
    "    ----------\n",
    "    triangles : ndarray of shape (n_triangles, 3)\n",
    "\n",
    "    Returns\n",
    "    -------\n",
    "    border_edges : list of list of length n_border_edges.\n",
    "                   The border edges of the mesh. Element i contains the two\n",
    "                     vertices of the i-th border edge. \n",
    "    \"\"\"\n",
    "    # YOUR CODE HERE\n",
    "    \n",
    "    return border_edges"
   ]
  },
  {
   "cell_type": "code",
   "execution_count": null,
   "metadata": {},
   "outputs": [],
   "source": [
    "mesh1 = TriMesh('./data/sphere_cut_uv.obj')\n",
    "border_edges = get_border_edges(mesh1.faces)\n",
    "# Visualize the border. It is here just a cut of the sphere\n",
    "plu.plot(mesh1, points=np.unique(border_edges))"
   ]
  },
  {
   "cell_type": "markdown",
   "metadata": {},
   "source": [
    "### Question 2 - Orderd points on a circle"
   ]
  },
  {
   "cell_type": "markdown",
   "metadata": {},
   "source": [
    "**Write a function to generate evenly spaced points on the circle in a counterclockwise order.**\n",
    "These are going to be the fixed positions of our border vertices"
   ]
  },
  {
   "cell_type": "code",
   "execution_count": null,
   "metadata": {},
   "outputs": [],
   "source": [
    "def get_n_points_on_circle(n_points):\n",
    "    \"\"\"\n",
    "    Builds n_points evenly spaced points on the unit circle.\n",
    "\n",
    "    Parameters\n",
    "    ----------\n",
    "    n_points : int\n",
    "        Number of points to generate\n",
    "\n",
    "    Returns\n",
    "    -------\n",
    "    points : ndarray of shape (n_points, 2)\n",
    "        The points on the unit circle\n",
    "    \"\"\"\n",
    "    # YOUR CODE HERE\n",
    "    return points"
   ]
  },
  {
   "cell_type": "code",
   "execution_count": null,
   "metadata": {},
   "outputs": [],
   "source": [
    "#Check for possible duplicate points!\n",
    "circle_points = get_n_points_on_circle(10)\n",
    "plt.figure(dpi=100)\n",
    "plt.scatter(circle_points[:,0], circle_points[:,1])\n",
    "plt.axis('equal')"
   ]
  },
  {
   "cell_type": "markdown",
   "metadata": {},
   "source": [
    "### Question 3 - Solving the Embedding"
   ]
  },
  {
   "cell_type": "markdown",
   "metadata": {},
   "source": [
    "**Solve for the uv coordinate using ```scipy.sparse.linalg.spsolve```**\n",
    "\n",
    "Tip: The slicing ```W[id_int,id_int]``` does not work on a scipy sparse matrix, instead use ```W[id_int,:][:,id_int]```.\n",
    "\n",
    "Because the function `get_n_points_on_circle` gives an *ordered* set of points on the circle but the function `get_border_edges` outputs vertices which are *unordered*, we will need to *sort* the list of border edges. We provide the function ```build_ordered_edges``` below which generates an *ordered* list of border edges using the output of ```get_border_edges``` defined in Question 1."
   ]
  },
  {
   "cell_type": "code",
   "execution_count": null,
   "metadata": {},
   "outputs": [],
   "source": [
    "def find_next_edge(current_edge, remaining_edges):\n",
    "        for i, edge in enumerate(remaining_edges):\n",
    "            if current_edge[1] in edge:\n",
    "                return i, edge #if edge[0]==current_edge[1] else edge[::-1]\n",
    "        return None, None\n",
    "\n",
    "def build_ordered_edges(triangles):\n",
    "    \"\"\"\n",
    "    Compute an ordered list of edges that form a path around the border of the mesh.\n",
    "\n",
    "    Parameters\n",
    "    ----------\n",
    "    triangles : ndarray of shape (n_triangles, 3)\n",
    "\n",
    "    Returns\n",
    "    -------\n",
    "    ordered_edge_list : list of list of length n_border_edges.\n",
    "                        The border edges of the mesh. Element i contains the two\n",
    "                        vertices of the i-th border edge.\n",
    "    \"\"\"\n",
    "    \n",
    "    border_edges = get_border_edges(triangles)  # (p,2)\n",
    "    print(len(border_edges))\n",
    "    border_edges = copy.deepcopy(unique_edges)\n",
    "    remaining_edges = border_edges.copy().tolist()\n",
    "    \n",
    "    ordered_edge_list = []\n",
    "    \n",
    "    current_edge = remaining_edges[0]\n",
    "    ordered_edge_list.append(current_edge)\n",
    "    \n",
    "    remaining_edges.pop(0)\n",
    "        \n",
    "    while remaining_edges:\n",
    "        \n",
    "        i_edge, next_edge = find_next_edge(current_edge, remaining_edges)\n",
    "        #print(len(remaining_edges), i_edge, next_edge, current_edge)\n",
    "        if next_edge:\n",
    "            # Add the next edge to the ordered list\n",
    "            #print(\"toadd:\",  next_edge if next_edge[0]==current_edge[1] else [next_edge[1], next_edge[0]])\n",
    "            ordered_edge_list.append(next_edge if next_edge[0]==current_edge[1] else [next_edge[1], next_edge[0]])\n",
    "\n",
    "            # Remove the next edge from the list of border edges\n",
    "            remaining_edges.pop(i_edge)\n",
    "\n",
    "            # Update the current edge for the next iteration\n",
    "            current_edge = ordered_edge_list[-1]\n",
    "        else:\n",
    "            # If no next edge is found, break the loop\n",
    "            break\n",
    "    return ordered_edge_list     "
   ]
  },
  {
   "cell_type": "code",
   "execution_count": null,
   "metadata": {},
   "outputs": [],
   "source": [
    "# Load the mesh and compute the Laplacian\n",
    "mesh1 = TriMesh('./data/sphere_cut_uv.obj').process(k=0)"
   ]
  },
  {
   "cell_type": "code",
   "execution_count": null,
   "metadata": {},
   "outputs": [],
   "source": [
    "#TODO Compute the embedding u,v using the text above.\n",
    "# Get the list of ordered edges and the Laplacian\n",
    "import copy \n",
    "ordered_edges = build_ordered_edges(mesh1.faces)\n",
    "\n",
    "uv_total =  ### (n,2) computed UV coordinates (takes more than 1 line)\n",
    "\n",
    "flat_coords =  np.zeros((mesh1.n_vertices,3))\n",
    "flat_coords[:,:2] = uv_total"
   ]
  },
  {
   "cell_type": "code",
   "execution_count": null,
   "metadata": {},
   "outputs": [],
   "source": [
    "# Check that the constraints are good (normally naturally, since you built the system accordingly\n",
    "plt.scatter(cst[indices][:, 0], cst[indices][:, 1])\n",
    "plt.scatter(flat_coords[indices, 0], flat_coords[indices, 1])"
   ]
  },
  {
   "cell_type": "code",
   "execution_count": null,
   "metadata": {},
   "outputs": [],
   "source": [
    "# Visualize the texture on the mesh\n",
    "uv_map = mesh_utils.read_obj_texture('./data/sphere_cut_uv.obj')[-1]\n",
    "\n",
    "\n",
    "plu.plot_textured_mesh(mesh1, uv_map, points=np.unique(border_edges.flatten()), wireframe=True)"
   ]
  },
  {
   "cell_type": "code",
   "execution_count": null,
   "metadata": {},
   "outputs": [],
   "source": [
    "# Visualize the results\n",
    "\n",
    "# Flattened coordinates with reegular grid\n",
    "plu.plot_texture(flat_coords, mesh1.faces, uv_total, wireframe=True) \n",
    "\n",
    "# We can take the regular grid back to the sphere\n",
    "#plu.plot_texture(mesh1.vertices, mesh1.faces, uv_map, wireframe=True)\n",
    "\n",
    "# Or take the Texture of the sphere to the flat world\n",
    "# plu.plot_texture(flat_coords, mesh1.faces, uv_total, wireframe=True)"
   ]
  },
  {
   "cell_type": "markdown",
   "metadata": {},
   "source": [
    "Let's now visualize how it would render on the Earth"
   ]
  },
  {
   "cell_type": "code",
   "execution_count": null,
   "metadata": {},
   "outputs": [],
   "source": [
    "image = plt.imread('data/earth_daymap.jpg')\n",
    "plt.figure(dpi=120)\n",
    "plt.imshow(image)\n",
    "plt.axis('off');"
   ]
  },
  {
   "cell_type": "code",
   "execution_count": null,
   "metadata": {},
   "outputs": [],
   "source": [
    "os.makedirs('results', exist_ok=True)\n",
    "shutil.copyfile('data/earth_daymap.jpg', 'results/earth_daymap.jpg')\n",
    "\n",
    "\n",
    "# THIS EXPORTS A .OBJ FILE WITH TEXTURE AND MATERIAL INFORMATION. DOWNLOAD AND OPEN WITH MESHLAB\n",
    "TriMesh(mesh1.vertices, mesh1.faces).export_texture('results/tutte_earth.obj', uv_map, texture_im='earth_daymap.jpg')\n",
    "TriMesh(flat_coords, mesh1.faces).export_texture('results/tutte_earth_flat.obj', uv_map, texture_im='earth_daymap.jpg')"
   ]
  },
  {
   "cell_type": "markdown",
   "metadata": {},
   "source": [
    "## Least Square Conformal Map\n",
    "\n",
    "Conformal maps are special type of parametrizations which preserve angles. On a smooth surface, they are characterized by the relationship between the gradient of the coordinate $u$ and the coordinate $v$\n",
    "$$ \\nabla u = n \\times \\nabla v $$\n",
    "where $n$ is the surface normal. On a triangle mesh, the coordinates $(u,v)$ are computed using a linear least-squares problem\n",
    "$$ \\min_{u,v} \\sum_{t \\in T} A_t |\\nabla u - n \\times \\nabla v|^2 \\text{ subject to the constraint: } \\sum_i u_i^2 + v_i^2 = 1 $$\n",
    "where $A_t$ is the area of triangle $t$. As explained in the course, the objective function can be written in term of the Laplacian matrix $W$. This leads to the smallest eigenvalue problem\n",
    "$$ \\min_{u,v} \\begin{pmatrix} u \\\\ v \\end{pmatrix}^\\top \\begin{pmatrix} W & -M \\\\ -M^\\top & W \\end{pmatrix} \\begin{pmatrix} u \\\\ v \\end{pmatrix} \\text{ subject to the constraint: } \\sum_i u_i^2 + v_i^2 = 1 $$\n",
    "The sparse matrix $M$ of size $n_v \\times n_v$ is given by\n",
    "$$ M_{ij} = \\left\\lbrace \\begin{array}{ll} \n",
    "0 & \\text{if $i$ or $j$ is an interior vertex } \\\\\n",
    "1/2 & \\text{if $i$ to $j$ is a positive edge of the boundary triangle} \\\\\n",
    "-1/2 & \\text{if $i$ to $j$ is a negative edge of the boundary triangle} \n",
    "\\end{array} \\right.$$\n",
    "\n",
    "Positive edges are edges that appear when going around a face in the order provided in the file. Negative edges are when going the opposite direction.\n",
    "\n",
    "*Tips:* To assemble this matrix simply accumulate $\\pm\\frac{1}{2}$ values for all triangles using the triangle list using the formula above. Since interior edges appear twice in opposite direction in the mesh, their coefficient will vanish for them, and only values for border edges will remain.\n",
    "\n",
    "\n",
    "1. Build the sparse matrix `M`\n",
    "2. Compute the LSCM parametrization using `scipy.sparse.linalg.eigs` \n",
    "3. Extract the boundary coordinate of the parametrization and use them to compute a Tutte embedding "
   ]
  },
  {
   "cell_type": "markdown",
   "metadata": {},
   "source": [
    "### Question 4 - Build M"
   ]
  },
  {
   "cell_type": "code",
   "execution_count": null,
   "metadata": {},
   "outputs": [],
   "source": [
    "def build_M(faces):\n",
    "    \"\"\"\n",
    "    Build the M matrix above with values only at border edges.\n",
    "    M can be build by adding the formula for M_ij for each edge of each face on the mesh.\n",
    "    Coefficients at interior edges will vanish because they appear twice with opposite signs.\n",
    "\n",
    "    Parameters\n",
    "    ----------\n",
    "    faces : ndarray of shape (n_faces, 3)\n",
    "\n",
    "    Returns\n",
    "    -------\n",
    "    M : scipy.sparse.csr_matrix of shape (n_vertices, n_vertices)\n",
    "    \"\"\"\n",
    "    \n",
    "    return M"
   ]
  },
  {
   "cell_type": "markdown",
   "metadata": {},
   "source": [
    "### Question 5 - Solve the system\n",
    "\n",
    "Use scipy [bmat function](https://docs.scipy.org/doc/scipy/reference/generated/scipy.sparse.bmat.html) to build sparse matrices from blocks.\n",
    "\n",
    "Try with the two meshes (diablo doesn't have uv map)"
   ]
  },
  {
   "cell_type": "code",
   "execution_count": null,
   "metadata": {},
   "outputs": [],
   "source": [
    "#mesh1 = TriMesh(\"./data/diablo_cut2.obj\").process(k=0)\n",
    "mesh1 = TriMesh(\"./data/sphere_cut_uv.obj\").process(k=0)\n",
    "v,f,uv_map = mesh_utils.read_obj_texture('./data/sphere_cut_uv.obj')\n",
    "W = mesh1.W"
   ]
  },
  {
   "cell_type": "code",
   "execution_count": null,
   "metadata": {},
   "outputs": [],
   "source": [
    "M = build_M(mesh1.faces)\n",
    "system_matrix = #TODO\n",
    "\n",
    "res_eigenvalues, res_eigenvectors = scipy.sparse.linalg.eigsh(system_matrix, k=3, which='LM', sigma=-0.001)\n",
    "\n",
    "# Check that first 2 eigenvalues are 0\n",
    "print(res_eigenvalues)"
   ]
  },
  {
   "cell_type": "code",
   "execution_count": null,
   "metadata": {},
   "outputs": [],
   "source": [
    "uv_coords = res_eigenvectors[:,2].reshape((mesh1.n_vertices,2), order='F')\n",
    "\n",
    "#plu.plot_texture(mesh1.vertices, mesh1.faces, uv_coords)\n",
    "#flat_coords =  np.zeros((mesh1.n_vertices,3))\n",
    "#flat_coords[:,:2] = uv_coords\n",
    "#plu.plot_texture(flat_coords, mesh1.faces, uv_map, wireframe=True) \n",
    "\n",
    "\n",
    "# For the Sphere\n",
    "#plu.plot_texture(flat_coords, mesh1.faces, uv_map, wireframe=True)"
   ]
  },
  {
   "cell_type": "markdown",
   "metadata": {},
   "source": [
    "you can again visualize with the earth map on the sphere"
   ]
  },
  {
   "cell_type": "code",
   "execution_count": null,
   "metadata": {},
   "outputs": [],
   "source": [
    "TriMesh(mesh1.vertices, mesh1.faces).export_texture('results/lscm_earth.obj', uv_map, texture_im='earth_daymap.jpg')\n",
    "TriMesh(flat_coords, mesh1.faces).export_texture('results/lscm_earth.obj', uv_map, texture_im='earth_daymap.jpg')"
   ]
  },
  {
   "cell_type": "markdown",
   "metadata": {},
   "source": [
    "###  Question 6 - Extract the boundary of the U,V conformal coordinates and compute the tutte embedding on the same boundary"
   ]
  },
  {
   "cell_type": "markdown",
   "metadata": {},
   "source": [
    "Tips: be careful with the ordering of the boundery vertices"
   ]
  },
  {
   "cell_type": "code",
   "execution_count": null,
   "metadata": {},
   "outputs": [],
   "source": [
    "#TODO"
   ]
  },
  {
   "cell_type": "markdown",
   "metadata": {},
   "source": [
    "# 2 Surface Alignment"
   ]
  },
  {
   "cell_type": "markdown",
   "metadata": {},
   "source": [
    "## Iterative Closest Point\n",
    "\n",
    "The goal of this algorithm is to align two point clouds $X = \\{ x_i \\}$ and $Y = \\{ y_i \\}$ using only rigid transformations -- translation and rotation. It is standard algorithm to align 3D scans taken from different viewpoints. The most basic implementation iterates between three steps until convergence:\n",
    "\n",
    "1. For each point of $X$ compute the closest point in the set $Y$. This assignment is given by the table $p$\n",
    "$$ p_i = \\arg\\min_{j} \\|x_i - y_j\\|^2 .$$\n",
    "This can be done efficiently with a knn-search.\n",
    "\n",
    "2. Find the translation that best align the point cloud given the assignment $p$\n",
    "$$ \\min_{t \\in \\mathbb{R}^3} \\sum_i \\|x_i + t - y_{p_i}\\|^2 .$$\n",
    "This problem can be solved exactly with the formula $t = \\frac{1}{|X|}\\sum_i y_i - x_i$.\n",
    "\n",
    "3. Compute the rotation aligning the point cloud after translation:\n",
    "$$ \\min_{R} \\sum_i \\|Rx_i + t - y_{p_i}\\|^2 .$$\n",
    "This is an [orthogonal Procrustes problem](https://en.wikipedia.org/wiki/Orthogonal_Procrustes_problem) and can be solved efficiently using a Singular Value Decomposition ([SVD](https://en.wikipedia.org/wiki/Singular_value_decomposition)). Let the matrix $A = \\sum_i (t-y_{p_i})x_i^\\top$ be decomposed as $A = U S V^\\top$ where $U,V$ are unitary matrices and $S$ a diagonal matrix. The optimal rotation is given by $R = U D V^\\top$ with $D$ a diagonal matrix with $+1$ on the diagonal corresponding to the two largest singular values and $\\pm 1$ on the smallest singular value. The sign is chosen so that $\\det R = 1$.\n",
    "\n",
    "4. Update the position of $X$: $x_i \\leftarrow Rx_i+t$\n",
    "\n",
    "\n",
    "**To do:**\n",
    "1. Implement the steps\n",
    "2. Align the Armadilo"
   ]
  },
  {
   "cell_type": "markdown",
   "metadata": {},
   "source": [
    "### Question 7 - Compute Nearest Neighbor"
   ]
  },
  {
   "cell_type": "code",
   "execution_count": null,
   "metadata": {},
   "outputs": [],
   "source": [
    "def compute_nearest_neighbor(X, Y):\n",
    "    \"\"\"\n",
    "    Compute the nearest neighbor in Y for each point in X\n",
    "\n",
    "    Parameters:\n",
    "    -----------\n",
    "    X : (n, d) array of points\n",
    "    Y : (m, d) array of points\n",
    "\n",
    "    Returns:\n",
    "    --------\n",
    "    nearst_neighbor : (n,) array of indices of the nearest neighbor in Y for X\n",
    "    \"\"\"\n",
    "    # TODO DO NOT USE LOOPS"
   ]
  },
  {
   "cell_type": "markdown",
   "metadata": {},
   "source": [
    "### Question 8 - Compute optimal rotations and translation"
   ]
  },
  {
   "cell_type": "code",
   "execution_count": null,
   "metadata": {},
   "outputs": [],
   "source": [
    "def compute_rigid_transform(X_source, X_target):\n",
    "    \"\"\"\n",
    "    Compute the optimal rotation matrix and translation that aligns two point clouds of the same size X_source and X_target.\n",
    "    This rotation should be applied to X_source.\n",
    "\n",
    "    Parameters:\n",
    "    -----------\n",
    "    X_source : (n, d) array of points\n",
    "    Y_target : (n, d) array of points\n",
    "\n",
    "    Returns:\n",
    "    --------\n",
    "    R : (d, d) rotation matrix\n",
    "    t : (d,) translation vector\n",
    "    \"\"\"\n",
    "    # TODO\n",
    "    \n",
    "    return R, t"
   ]
  },
  {
   "cell_type": "markdown",
   "metadata": {},
   "source": [
    "### Question 9 - Apply the ICP algorithm\n",
    "We provide a function to apply a rigid transformation ```R,t``` to a point cloud"
   ]
  },
  {
   "cell_type": "code",
   "execution_count": null,
   "metadata": {},
   "outputs": [],
   "source": [
    "def transform_pointcloud(X,R,t):\n",
    "    \"\"\"\n",
    "    Transform a point cloud X by a rotation matrix R and a translation vector t.\n",
    "\n",
    "    Parameters:\n",
    "    -----------\n",
    "    X : (n, d) array of points\n",
    "    R : (d, d) rotation matrix\n",
    "    t : (d,) translation vector\n",
    "\n",
    "    Returns:\n",
    "    --------\n",
    "    X_transformed : (n, d) array of transformed points\n",
    "    \"\"\"\n",
    "    return X @ R.T + t"
   ]
  },
  {
   "cell_type": "code",
   "execution_count": null,
   "metadata": {},
   "outputs": [],
   "source": [
    "def icp_align(X_source, Y_target, n_iter=10):\n",
    "    \"\"\"\n",
    "    Align two point clouds X_source and Y_target using the ICP algorithm.\n",
    "\n",
    "    Parameters:\n",
    "    -----------\n",
    "    X_source : (n, d) array of points\n",
    "    Y_target : (m, d) array of points\n",
    "    n_iter   : int - number of iterations of the ICP algorithm\n",
    "\n",
    "    Returns:\n",
    "    --------\n",
    "    X_aligned : (n, d) array of aligned points\n",
    "    \"\"\"\n",
    "    # TODO compute ICP alignement\n",
    "\n",
    "    return X_aligned"
   ]
  },
  {
   "cell_type": "code",
   "execution_count": null,
   "metadata": {},
   "outputs": [],
   "source": [
    "def plot_superimposed(mesh1, mesh2, *args, **kwargs):\n",
    "    \"\"\"\n",
    "    Plot the superposition of the two meshes\n",
    "    \"\"\"\n",
    "    mesh = TriMesh(np.concatenate([mesh1.vertices, mesh2.vertices], axis=0),\n",
    "                   np.concatenate([mesh1.faces, mesh2.faces+mesh1.n_vertices], axis=0))\n",
    "    plu.plot(mesh, *args, **kwargs)\n",
    "\n",
    "mesh1 = TriMesh(\"./data/Armadillo_1.off\")\n",
    "mesh2 = TriMesh(\"./data/Armadillo_2.off\")\n",
    "\n",
    "plot_superimposed(mesh1, mesh2)"
   ]
  },
  {
   "cell_type": "code",
   "execution_count": null,
   "metadata": {},
   "outputs": [],
   "source": [
    "# VISUALIZE ICP Result, you can change the n_iter to improve results\n",
    "vert1_aligned = icp_align(mesh1.vertices, mesh2.vertices, n_iter=10)\n",
    "\n",
    "plot_superimposed(TriMesh(vert1_aligned, mesh1.faces), mesh2)"
   ]
  },
  {
   "cell_type": "markdown",
   "metadata": {},
   "source": [
    "## As-rigid-as possible deformation\n",
    "\n",
    "This model of deformation tries to preserves at best the shape features. As explained in the course, given a triangle mesh ($T$: triangle list, $X$: vertex positions) the goal is to find new vertex positions $Y = \\{ y_i\\}$ which are as-close-as possible to a local rotation of the initial position $X$. More precisely, we store a rotation matrix $R_i$ at each vertex $i$ and find the rotations $R$ and position $y$ minimizing\n",
    "$$ \\min_{y,R} \\sum_{i} \\sum_{j \\in N_i} w_{ij} \\| y_i - y_j - R_i (x_i - x_j) \\|^2, \\text{  $y$ subject to position constraint,}$$\n",
    "with $w_{ij}$ the cotan-weight and $N_i$ the set of vertices adajcent to $i$.\n",
    "\n",
    "To solve this problem, we iterate between solving for best the position and for rotations.\n",
    "\n",
    "1. Finding the optimal position $y$ is simply a constrained Laplacian problem (just like the first question)\n",
    "$$W y = b, \\quad \\text{where } b_i = \\sum_{j \\in N_i} \\frac{w_{ij}}{2} (R_i+R_j) (x_i - x_j) \\text{ for each vertex $i$}, $$\n",
    "and $y$ is constrained at some given vertices.\n",
    "\n",
    "2. Finding the optimal rotation $R_i$ amounts for solving an orthogonal Procrustes problem for each vertex $i$ where the matrix $B_i = \\sum_{j \\in N_i} w_{ij} (y_i - y_j) (x_i - x_j)^\\top$ is decomposed via a SVD (see step 3 of previous question).\n",
    "\n",
    "\n",
    "**To do:**\n",
    "1. Open the file diablo.obj. Solve constrained Laplacian problem with vertex idices `id_lock = [1175, 762, 381, 2383, 1836]` displaced by a vector `[0,0,-0.5; 0,0,0.5; 0,0,-0.5; 0,0,0.5; 1.5,0,0]`\n",
    "2. Add procrustes problem for each vertex\n",
    "3. Add a closest point query at the beginning of the iteration. Chose randomly N points which will be constrained during the iteration."
   ]
  },
  {
   "cell_type": "markdown",
   "metadata": {},
   "source": [
    "We provide a function to compute a list of neighbors for each vertex"
   ]
  },
  {
   "cell_type": "code",
   "execution_count": null,
   "metadata": {},
   "outputs": [],
   "source": [
    "def get_per_vertex_neighbors(faces):\n",
    "    \"\"\"\n",
    "    Compute per-vertex neighbors from a list of triangles\n",
    "\n",
    "    Parameters:\n",
    "    -----------\n",
    "    faces : (n, 3) array of vertex indices for each triangle\n",
    "\n",
    "    Returns:\n",
    "    --------\n",
    "    neighbors : list of lists of vertex indices\n",
    "    \"\"\"\n",
    "\n",
    "    neighbors = [set() for _ in range(faces.max()+1)]\n",
    "    for face in faces:\n",
    "        neighbors[face[0]].add(face[1])\n",
    "        neighbors[face[0]].add(face[2])\n",
    "\n",
    "        neighbors[face[1]].add(face[0])\n",
    "        neighbors[face[1]].add(face[2])\n",
    "\n",
    "        neighbors[face[2]].add(face[0])\n",
    "        neighbors[face[2]].add(face[1])\n",
    "\n",
    "    return [list(n) for n in neighbors]"
   ]
  },
  {
   "cell_type": "markdown",
   "metadata": {},
   "source": [
    "### Question 10 - Compute the matrix $B_i$"
   ]
  },
  {
   "cell_type": "code",
   "execution_count": null,
   "metadata": {},
   "outputs": [],
   "source": [
    "def get_arap_edge_covariance(x,y, cotan_matrix, per_vertex_neighbors):\n",
    "    \"\"\"\n",
    "    Compute the covariance matrix of the edge between x and y. (Formula B_i)\n",
    "\n",
    "    Parameters:\n",
    "    -----------\n",
    "    x : (n,3) array of coordinates of x\n",
    "    y : (n, 3) array of coordinates of y\n",
    "    cotan_matrix : (n,n) cotan matrix of the mesh\n",
    "    per_vertex_neighbors : (n,) list with list of neighbors of each vertex\n",
    "\n",
    "    Returns:\n",
    "    --------\n",
    "    covariances : (n, 3, 3) covariance matrices of the edge between x and y\n",
    "    \"\"\"\n",
    "    N = x.shape[0]\n",
    "    covariances = np.zeros((N,3,3))\n",
    "\n",
    "    # YOUR CODE HERE\n",
    "    # You can do a loop or let scipy do the job for you (faster)\n",
    "    \n",
    "    return covariances"
   ]
  },
  {
   "cell_type": "markdown",
   "metadata": {},
   "source": [
    "### Question 11 - Compute the rotation $R_i$ from $B_i$"
   ]
  },
  {
   "cell_type": "code",
   "execution_count": null,
   "metadata": {},
   "outputs": [],
   "source": [
    "def get_rot_from_covariances(covariances):\n",
    "    \"\"\"\n",
    "    Compute optimal rotation matrix from edge covariance matrices, using SVD.\n",
    "\n",
    "    Parameters:\n",
    "    -----------\n",
    "    covariances : (n, 3, 3) covariance matrices for each vertex\n",
    "\n",
    "    Returns:\n",
    "    --------\n",
    "    rots : (n, 3, 3) rotation matrices for each vertex\n",
    "    \"\"\"\n",
    "    # rots = np.zeros_like(covariances)  # (n, 3, 3)\n",
    "    \n",
    "    #  YOUR CODE HERE\n",
    "    # You can do a loop or let scipy do the job for you (faster)\n",
    "    \n",
    "    return rots"
   ]
  },
  {
   "cell_type": "markdown",
   "metadata": {},
   "source": [
    "### Question 12 - Compute the vector $b$"
   ]
  },
  {
   "cell_type": "code",
   "execution_count": null,
   "metadata": {},
   "outputs": [],
   "source": [
    "def compute_ARAP_rotated_vert(vertices, rotations, cotan_matrix, per_vertex_neighbors):\n",
    "    \"\"\"\n",
    "    Compute the right hand term of the ARAP linear system (formula b_i)\n",
    "\n",
    "    Parameters:\n",
    "    -----------\n",
    "    vertices : (n, 3) array of vertices\n",
    "    rotations : (n, 3, 3) array of rotation matrices\n",
    "    cotan_matrix : (n,n) cotan matrix of the mesh\n",
    "    per_vertex_neighbors : (n,) list with list of neighbors of each vertex\n",
    "\n",
    "    Returns:\n",
    "    --------\n",
    "    b : (n, 3) right hand term of the ARAP linear system\n",
    "    \"\"\"\n",
    "    b = np.zeros((vertices.shape[0], 3))\n",
    "    \n",
    "    # YOUR CODE HERE\n",
    "    # You can do a loop or let scipy do the job for you (faster)\n",
    "    return b"
   ]
  },
  {
   "cell_type": "markdown",
   "metadata": {},
   "source": [
    "### Question 13 - Apply ARAP Deformation.\n",
    "Note that the linear system is constrained. Use the same trick as in Question 1 to handle"
   ]
  },
  {
   "cell_type": "code",
   "execution_count": null,
   "metadata": {},
   "outputs": [],
   "source": [
    "mesh3 = TriMesh(\"./data/diablo2.obj\").process(k=0)\n",
    "\n",
    "# THE ID OF THE LANDMARKS\n",
    "id_lock = [1175, 762, 381, 2383, 1836]\n",
    "\n",
    "# THE EXPECTED POSITIONS OF THE LANDMARKS AFTER OPTIMIZATION\n",
    "disp = np.array([[0,0,-0.5], [0,0,0.5], [0,0,-0.5], [0,0,0.5], [.5,0.5,0]])\n",
    "positions_target = mesh3.vertices[id_lock] + disp"
   ]
  },
  {
   "cell_type": "code",
   "execution_count": null,
   "metadata": {},
   "outputs": [],
   "source": [
    "# VISUALIZE THE LANDMARKS\n",
    "plu.plot(mesh3,\n",
    "         points=np.concatenate([mesh3.vertices[id_lock], positions_target]),\n",
    "         cmap_p=np.tile(np.arange(len(id_lock)),2),\n",
    "         shading_p=dict(point_size=0.3),\n",
    "         colormap='jet')"
   ]
  },
  {
   "cell_type": "code",
   "execution_count": null,
   "metadata": {},
   "outputs": [],
   "source": [
    "vertex_neighbors = get_per_vertex_neighbors(mesh3.faces)\n",
    "\n",
    "W = mesh3.W.copy()\n",
    "print(W.shape, mesh3.n_vertices)\n",
    "# Interior vertices\n",
    "id_in = [i for i in range(mesh3.n_vertices) if i not in id_lock]\n",
    "\n",
    "# Initial guess for the vertices\n",
    "init_res = np.zeros_like(mesh3.vertices)\n",
    "init_res[id_lock] = positions_target\n",
    "init_res[id_in] = mesh3.vertices[id_in]\n",
    "\n",
    "# ARAP Loop. You can try to increase the number of iterations and see the difference\n",
    "for i in range(1):\n",
    "\n",
    "    # Compute rotation matrices, covariances, b\n",
    "    \n",
    "    \n",
    "    # Compute right hand term and left hand term of ARAP SYSTEM\n",
    "    # Think about the constraint, go back the the text in part 1.1 to see how to build the constrained system\n",
    "    lhs = #TODO left hand side of the system\n",
    "    rhs = #TODO right hand side of the system\n",
    "\n",
    "    \n",
    "    res = scipy.sparse.linalg.spsolve(lhs, rhs)\n",
    "    \n",
    "    final_res = np.zeros_like(init_res)\n",
    "    final_res[id_lock] = positions_target\n",
    "    final_res[id_in] = res"
   ]
  },
  {
   "cell_type": "code",
   "execution_count": null,
   "metadata": {},
   "outputs": [],
   "source": [
    "new_mesh = TriMesh(final_res, mesh3.faces)\n",
    "plot_superimposed(new_mesh, mesh3)"
   ]
  },
  {
   "cell_type": "code",
   "execution_count": null,
   "metadata": {},
   "outputs": [],
   "source": [
    "plu.plot(new_mesh)"
   ]
  }
 ],
 "metadata": {
  "kernelspec": {
   "display_name": "Python 3",
   "language": "python",
   "name": "python3"
  },
  "language_info": {
   "codemirror_mode": {
    "name": "ipython",
    "version": 3
   },
   "file_extension": ".py",
   "mimetype": "text/x-python",
   "name": "python",
   "nbconvert_exporter": "python",
   "pygments_lexer": "ipython3",
   "version": "3.9.18"
  },
  "toc": {
   "base_numbering": 1,
   "nav_menu": {},
   "number_sections": true,
   "sideBar": true,
   "skip_h1_title": false,
   "title_cell": "Table of Contents",
   "title_sidebar": "Contents",
   "toc_cell": false,
   "toc_position": {},
   "toc_section_display": true,
   "toc_window_display": false
  }
 },
 "nbformat": 4,
 "nbformat_minor": 4
}
